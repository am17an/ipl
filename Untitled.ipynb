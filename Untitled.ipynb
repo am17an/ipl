{
 "cells": [
  {
   "cell_type": "code",
   "execution_count": 10,
   "id": "8d173190",
   "metadata": {},
   "outputs": [],
   "source": [
    "import pandas as pd \n",
    "import numpy as np \n",
    "import seaborn as sns\n"
   ]
  },
  {
   "cell_type": "code",
   "execution_count": 42,
   "id": "8098b96d",
   "metadata": {},
   "outputs": [],
   "source": [
    "df = pd.read_csv(\"features_df.csv\")"
   ]
  },
  {
   "cell_type": "code",
   "execution_count": 12,
   "id": "c00aec54-5ea9-4ca4-82b3-3b102543492d",
   "metadata": {},
   "outputs": [
    {
     "data": {
      "text/plain": [
       "<seaborn.axisgrid.FacetGrid at 0x7f48b5499c10>"
      ]
     },
     "execution_count": 12,
     "metadata": {},
     "output_type": "execute_result"
    },
    {
     "data": {
      "image/png": "[encoded data removed]",
      "text/plain": [
       "<Figure size 500x500 with 1 Axes>"
      ]
     },
     "metadata": {},
     "output_type": "display_data"
    }
   ],
   "source": [
    "sns.displot(df[df['batting_score'] > 0]['batting_score'])"
   ]
  },
  {
   "cell_type": "code",
   "execution_count": 45,
   "id": "ec1138ab-904b-4048-ba45-d6a0c8dd8139",
   "metadata": {},
   "outputs": [
    {
     "data": {
      "text/plain": [
       "np.int64(0)"
      ]
     },
     "execution_count": 45,
     "metadata": {},
     "output_type": "execute_result"
    }
   ],
   "source": [
    "(df['batting_innings'] == df['bowling_innings']).sum()"
   ]
  },
  {
   "cell_type": "code",
   "execution_count": 60,
   "id": "6bba488d-4742-4eea-aea1-40ebd3a5bedf",
   "metadata": {},
   "outputs": [
    {
     "data": {
      "text/html": [
       "<div>\n",
       "<style scoped>\n",
       "    .dataframe tbody tr th:only-of-type {\n",
       "        vertical-align: middle;\n",
       "    }\n",
       "\n",
       "    .dataframe tbody tr th {\n",
       "        vertical-align: top;\n",
       "    }\n",
       "\n",
       "    .dataframe thead th {\n",
       "        text-align: right;\n",
       "    }\n",
       "</style>\n",
       "<table border=\"1\" class=\"dataframe\">\n",
       "  <thead>\n",
       "    <tr style=\"text-align: right;\">\n",
       "      <th></th>\n",
       "      <th>player</th>\n",
       "      <th>match_id</th>\n",
       "      <th>date</th>\n",
       "      <th>season</th>\n",
       "      <th>match_number</th>\n",
       "      <th>team</th>\n",
       "      <th>opposition</th>\n",
       "      <th>venue</th>\n",
       "      <th>total_score</th>\n",
       "      <th>batting_score</th>\n",
       "      <th>...</th>\n",
       "      <th>strike_rate_bowling</th>\n",
       "      <th>economy_rate_bowling</th>\n",
       "      <th>score_std</th>\n",
       "      <th>recent_score_std</th>\n",
       "      <th>form_trend</th>\n",
       "      <th>avg_days_between_matches</th>\n",
       "      <th>avg_rank_last_5</th>\n",
       "      <th>top_11_count_last_5</th>\n",
       "      <th>total_venue_batting_avg</th>\n",
       "      <th>total_venue_bowling_avg</th>\n",
       "    </tr>\n",
       "  </thead>\n",
       "  <tbody>\n",
       "    <tr>\n",
       "      <th>4402</th>\n",
       "      <td>Vijaykumar Vyshak</td>\n",
       "      <td>202505</td>\n",
       "      <td>2025-03-25</td>\n",
       "      <td>2025</td>\n",
       "      <td>5</td>\n",
       "      <td>PBKS</td>\n",
       "      <td>GT</td>\n",
       "      <td>Narendra Modi Stadium, Ahmedabad</td>\n",
       "      <td>7</td>\n",
       "      <td>0</td>\n",
       "      <td>...</td>\n",
       "      <td>17.846154</td>\n",
       "      <td>1.702586</td>\n",
       "      <td>35.50032</td>\n",
       "      <td>31.208973</td>\n",
       "      <td>31.0</td>\n",
       "      <td>38.5</td>\n",
       "      <td>13.0</td>\n",
       "      <td>1</td>\n",
       "      <td>43.337165</td>\n",
       "      <td>40.938547</td>\n",
       "    </tr>\n",
       "  </tbody>\n",
       "</table>\n",
       "<p>1 rows × 65 columns</p>\n",
       "</div>"
      ],
      "text/plain": [
       "                 player  match_id        date  season  match_number  team  \\\n",
       "4402  Vijaykumar Vyshak    202505  2025-03-25    2025             5  PBKS   \n",
       "\n",
       "     opposition                             venue  total_score  batting_score  \\\n",
       "4402         GT  Narendra Modi Stadium, Ahmedabad            7              0   \n",
       "\n",
       "      ...  strike_rate_bowling  economy_rate_bowling  score_std  \\\n",
       "4402  ...            17.846154              1.702586   35.50032   \n",
       "\n",
       "      recent_score_std  form_trend  avg_days_between_matches  avg_rank_last_5  \\\n",
       "4402         31.208973        31.0                      38.5             13.0   \n",
       "\n",
       "      top_11_count_last_5  total_venue_batting_avg  total_venue_bowling_avg  \n",
       "4402                    1                43.337165                40.938547  \n",
       "\n",
       "[1 rows x 65 columns]"
      ]
     },
     "execution_count": 60,
     "metadata": {},
     "output_type": "execute_result"
    }
   ],
   "source": [
    "df[df['player'] == 'Vijaykumar Vyshak'].tail(1)"
   ]
  },
  {
   "cell_type": "code",
   "execution_count": 70,
   "id": "2860ab9f-4577-4846-807a-d6bf06f29b4c",
   "metadata": {},
   "outputs": [
    {
     "data": {
      "text/plain": [
       "np.float64(41.607142857142854)"
      ]
     },
     "execution_count": 70,
     "metadata": {},
     "output_type": "execute_result"
    }
   ],
   "source": [
    "df[(df['batting_score'] > 0) & (df['batting_innings'] == 2)]['batting_score'].mean()\n"
   ]
  }
 ],
 "metadata": {
  "kernelspec": {
   "display_name": "Python 3 (ipykernel)",
   "language": "python",
   "name": "python3"
  },
  "language_info": {
   "codemirror_mode": {
    "name": "ipython",
    "version": 3
   },
   "file_extension": ".py",
   "mimetype": "text/x-python",
   "name": "python",
   "nbconvert_exporter": "python",
   "pygments_lexer": "ipython3",
   "version": "3.12.3"
  }
 },
 "nbformat": 4,
 "nbformat_minor": 5
}
